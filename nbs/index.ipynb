{
 "cells": [
  {
   "cell_type": "markdown",
   "metadata": {},
   "source": [
    "# Robot\n",
    "\n",
    "A simple DVC pipeline to create RAG-augmented OpenAI assistant which should be able to discuss news or answer FAQ in the specified style."
   ]
  },
  {
   "cell_type": "markdown",
   "metadata": {},
   "source": [
    "## Install"
   ]
  },
  {
   "cell_type": "markdown",
   "metadata": {},
   "source": [
    "```sh\n",
    "bash deploy.sh\n",
    "```"
   ]
  },
  {
   "cell_type": "markdown",
   "metadata": {},
   "source": [
    "Before using - pull the latest git changes and DVC\n",
    "\n",
    "```bash\n",
    "dvc pull\n",
    "```\n",
    "\n",
    "DVC DAG should be\n",
    "\n",
    "```bash\n",
    "dvc dag --md\n",
    "```\n",
    "\n",
    "```mermaid\n",
    "flowchart TD\n",
    "\tnode1[\"concat_openai_file_ids\"]\n",
    "\tnode2[\"data/characters.yaml.dvc\"]\n",
    "\tnode3[\"data/faq.csv.dvc\"]\n",
    "\tnode4[\"data/instruction.txt.dvc\"]\n",
    "\tnode5[\"data/urls.txt.dvc\"]\n",
    "\tnode6[\"download_calculate_split\"]\n",
    "\tnode7[\"download_create_openai_files\"]\n",
    "\tnode8[\"download_markdownify\"]\n",
    "\tnode9[\"download_news\"]\n",
    "\tnode10[\"faq_calculate_split\"]\n",
    "\tnode11[\"faq_create_openai_files\"]\n",
    "\tnode12[\"faq_markdown_prepare\"]\n",
    "\tnode13[\"update_assistant_files\"]\n",
    "\tnode14[\"update_assistants\"]\n",
    "\tnode1-->node13\n",
    "\tnode2-->node14\n",
    "\tnode3-->node12\n",
    "\tnode4-->node14\n",
    "\tnode5-->node9\n",
    "\tnode6-->node7\n",
    "\tnode7-->node1\n",
    "\tnode8-->node6\n",
    "\tnode8-->node7\n",
    "\tnode9-->node8\n",
    "\tnode10-->node11\n",
    "\tnode11-->node1\n",
    "\tnode12-->node10\n",
    "\tnode12-->node11\n",
    "\tnode14-->node13\n",
    "```\n",
    "\n",
    "To run pipeline run\n",
    "\n",
    "```\n",
    "dvc repro\n",
    "```"
   ]
  },
  {
   "cell_type": "code",
   "execution_count": null,
   "metadata": {},
   "outputs": [],
   "source": []
  }
 ],
 "metadata": {
  "kernelspec": {
   "display_name": "python3",
   "language": "python",
   "name": "python3"
  }
 },
 "nbformat": 4,
 "nbformat_minor": 4
}
