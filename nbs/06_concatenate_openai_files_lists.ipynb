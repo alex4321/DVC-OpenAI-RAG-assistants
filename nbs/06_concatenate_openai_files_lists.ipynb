{
 "cells": [
  {
   "cell_type": "code",
   "execution_count": null,
   "metadata": {},
   "outputs": [],
   "source": [
    "#| default_exp scripts/concatenate_openai_files_list"
   ]
  },
  {
   "cell_type": "code",
   "execution_count": null,
   "metadata": {},
   "outputs": [
    {
     "name": "stderr",
     "output_type": "stream",
     "text": [
      "/tmp/ipykernel_325379/3370356190.py:5: DeprecationWarning: \n",
      "Pyarrow will become a required dependency of pandas in the next major release of pandas (pandas 3.0),\n",
      "(to allow more performant data types, such as the Arrow string type, and better interoperability with other libraries)\n",
      "but was not found to be installed on your system.\n",
      "If this would cause problems for you,\n",
      "please provide us feedback at https://github.com/pandas-dev/pandas/issues/54466\n",
      "        \n",
      "  import pandas as pd\n"
     ]
    }
   ],
   "source": [
    "#| export\n",
    "import argparse\n",
    "import sys\n",
    "from typing import List\n",
    "import pandas as pd"
   ]
  },
  {
   "cell_type": "code",
   "execution_count": null,
   "metadata": {},
   "outputs": [],
   "source": [
    "#| export\n",
    "MAX_FILE_PER_ASSISTENT = 20"
   ]
  },
  {
   "cell_type": "code",
   "execution_count": null,
   "metadata": {},
   "outputs": [],
   "source": [
    "#| export\n",
    "def process(file_names_input: List[str], file_name_output: str):\n",
    "    df = pd.concat([\n",
    "        pd.read_json(fname, orient=\"records\", lines=True)\n",
    "        for fname in file_names_input\n",
    "    ])\n",
    "    df = df.reset_index(drop=True)\n",
    "    assert len(df) < MAX_FILE_PER_ASSISTENT\n",
    "    df.to_json(file_name_output, orient=\"records\", lines=True)"
   ]
  },
  {
   "cell_type": "code",
   "execution_count": null,
   "metadata": {},
   "outputs": [],
   "source": [
    "process(\n",
    "    [\n",
    "        \"../data/urls--downloaded--openai-file-ids.jsonl\",\n",
    "        \"../data/faq--openai-file-ids.jsonl\",\n",
    "    ],\n",
    "    \"../data/openai-file-ids.jsonl\"\n",
    ")"
   ]
  },
  {
   "cell_type": "code",
   "execution_count": null,
   "metadata": {},
   "outputs": [],
   "source": [
    "# | export\n",
    "if __name__ == \"__main__\" and \"ipykernel_launcher\" not in \" \".join(sys.argv):\n",
    "    parser = argparse.ArgumentParser()\n",
    "    parser.add_argument(\"--file_names_input\",\n",
    "                        nargs=\"+\",\n",
    "                        required=True,\n",
    "                        help=\"A list with OpenAI files ids\")\n",
    "    parser.add_argument(\"--file_name_output\",\n",
    "                        type=str,\n",
    "                        required=True,\n",
    "                        help=\"JSONL file with all the file ids\")\n",
    "    process(**vars(parser.parse_args()))"
   ]
  },
  {
   "cell_type": "code",
   "execution_count": null,
   "metadata": {},
   "outputs": [],
   "source": [
    "#| hide\n",
    "import nbdev; nbdev.nbdev_export()"
   ]
  }
 ],
 "metadata": {
  "kernelspec": {
   "display_name": "python3",
   "language": "python",
   "name": "python3"
  }
 },
 "nbformat": 4,
 "nbformat_minor": 2
}
