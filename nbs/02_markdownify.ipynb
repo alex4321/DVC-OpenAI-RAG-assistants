{
 "cells": [
  {
   "cell_type": "code",
   "execution_count": null,
   "metadata": {},
   "outputs": [],
   "source": [
    "#| default_exp scripts/markdownify"
   ]
  },
  {
   "cell_type": "code",
   "execution_count": null,
   "metadata": {},
   "outputs": [
    {
     "name": "stderr",
     "output_type": "stream",
     "text": [
      "/tmp/ipykernel_314713/994876590.py:5: DeprecationWarning: \n",
      "Pyarrow will become a required dependency of pandas in the next major release of pandas (pandas 3.0),\n",
      "(to allow more performant data types, such as the Arrow string type, and better interoperability with other libraries)\n",
      "but was not found to be installed on your system.\n",
      "If this would cause problems for you,\n",
      "please provide us feedback at https://github.com/pandas-dev/pandas/issues/54466\n",
      "        \n",
      "  import pandas as pd\n"
     ]
    }
   ],
   "source": [
    "#| export\n",
    "import argparse\n",
    "import sys\n",
    "from markdownify import markdownify as md\n",
    "import pandas as pd"
   ]
  },
  {
   "cell_type": "code",
   "execution_count": null,
   "metadata": {},
   "outputs": [],
   "source": [
    "#| export\n",
    "def process(file_name_html: str, file_name_markdown: str) -> None:\n",
    "    df = pd.read_json(file_name_html, orient=\"records\", lines=True)\n",
    "    df[\"content\"] = \"# \" + df[\"title\"] + \"\\n\\n\" + df[\"content\"]\n",
    "    df[\"content\"] = \"\\n\" + df[\"content\"].apply(\n",
    "        lambda text: md(text, heading_style=\"ATX\")\n",
    "    )\n",
    "    df[\"content\"] = df.apply(\n",
    "        lambda row: row[\"content\"].replace(\"\\n#\", f\"\\n{row['publish_date']}\\n#\"),\n",
    "        axis=1,\n",
    "    )\n",
    "    df[\"content\"] = df[\"content\"].str.strip()\n",
    "    df.to_json(file_name_markdown, orient=\"records\", lines=True)"
   ]
  },
  {
   "cell_type": "code",
   "execution_count": null,
   "metadata": {},
   "outputs": [],
   "source": [
    "process(\n",
    "    \"../data/urls--downloaded.jsonl\",\n",
    "    \"../data/urls--downloaded-markdown.jsonl\",\n",
    ")"
   ]
  },
  {
   "cell_type": "code",
   "execution_count": null,
   "metadata": {},
   "outputs": [],
   "source": [
    "# | export\n",
    "if __name__ == \"__main__\" and \"ipykernel_launcher\" not in \" \".join(sys.argv):\n",
    "    parser = argparse.ArgumentParser()\n",
    "    parser.add_argument(\"--file_name_html\",\n",
    "                        type=str,\n",
    "                        required=True,\n",
    "                        help=\"JSONL file with downloaded HTML\")\n",
    "    parser.add_argument(\"--file_name_markdown\",\n",
    "                        type=str,\n",
    "                        required=True,\n",
    "                        help=\"JSONL file with converted Markdown\")\n",
    "    parser.parse_args(**vars(parser.parse_args()))"
   ]
  },
  {
   "cell_type": "code",
   "execution_count": null,
   "metadata": {},
   "outputs": [],
   "source": [
    "#| hide\n",
    "import nbdev; nbdev.nbdev_export()"
   ]
  }
 ],
 "metadata": {
  "kernelspec": {
   "display_name": "python3",
   "language": "python",
   "name": "python3"
  }
 },
 "nbformat": 4,
 "nbformat_minor": 2
}
