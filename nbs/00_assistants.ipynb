{
 "cells": [
  {
   "cell_type": "markdown",
   "metadata": {},
   "source": [
    "# assistants\n",
    "\n",
    "> This module describes assistants creating itself"
   ]
  },
  {
   "cell_type": "code",
   "execution_count": 1,
   "metadata": {},
   "outputs": [],
   "source": [
    "#| default_exp scripts/assistants"
   ]
  },
  {
   "cell_type": "code",
   "execution_count": 2,
   "metadata": {},
   "outputs": [
    {
     "name": "stderr",
     "output_type": "stream",
     "text": [
      "/tmp/ipykernel_305798/181785347.py:7: DeprecationWarning: \n",
      "Pyarrow will become a required dependency of pandas in the next major release of pandas (pandas 3.0),\n",
      "(to allow more performant data types, such as the Arrow string type, and better interoperability with other libraries)\n",
      "but was not found to be installed on your system.\n",
      "If this would cause problems for you,\n",
      "please provide us feedback at https://github.com/pandas-dev/pandas/issues/54466\n",
      "        \n",
      "  import pandas as pd\n"
     ]
    }
   ],
   "source": [
    "#| export\n",
    "import argparse\n",
    "import os\n",
    "import sys\n",
    "from typing import List, Dict\n",
    "import openai\n",
    "import pandas as pd\n",
    "from pydantic import BaseModel\n",
    "from yaml import safe_load"
   ]
  },
  {
   "cell_type": "code",
   "execution_count": 3,
   "metadata": {},
   "outputs": [],
   "source": [
    "#| export\n",
    "class CharacterDescription(BaseModel):\n",
    "    character_id: int\n",
    "    name: str\n",
    "    who_am: str\n",
    "    goals: str\n",
    "    ideas: str\n",
    "    style_description: str\n",
    "    style_examples: List[str]\n",
    "\n",
    "\n",
    "class CharactersCollection(BaseModel):\n",
    "    characters: List[CharacterDescription]"
   ]
  },
  {
   "cell_type": "code",
   "execution_count": 4,
   "metadata": {},
   "outputs": [],
   "source": [
    "#| export\n",
    "def load_characters(file_name: str) -> List[CharacterDescription]:\n",
    "    with open(file_name, \"r\", encoding=\"utf-8\") as src:\n",
    "        yaml_parsed = safe_load(src)\n",
    "        return CharactersCollection.model_validate(yaml_parsed).characters"
   ]
  },
  {
   "cell_type": "code",
   "execution_count": 5,
   "metadata": {},
   "outputs": [
    {
     "data": {
      "text/plain": [
       "[CharacterDescription(character_id=1, name='alex4321', who_am='программист, почти 30-летний мужчина.', goals='Убедить как можно больше людей в том, что идущая война между Россией и Украиной лишь приносит больше проблем, что она не решает никаких проблем, поэтому мы должны оставить ее и разрушить впечатление, что она широко поддерживается  (что, по вашему мнению, может быть побочным эффектом работы общества и пропаганды).\\nДля этого - выражайте свое мнение и опровергайте мнения оппонентов.\\nНо вы не можете привести этот аргумент к каждой ситуации. Иногда вам просто нужно сломать логику оппонента.\\nВ любом случае, ваше основное беспокойство - это ваша страна, все остальное - второстепенный приоритет.\\n', ideas=\"Немного о том, как вы видите соответствующие темы:\\n- Государство, безусловно, должно сохранять свою целостность. Даже если это война. Наша собственная страна сделала это через обе чеченские кампании, не так ли? Что означает, что Украина должна стараться сохранить свою целостность, и в этом нет ничего плохого.\\n- однако попытки вмешиваться в такие вопросы извне часто могут принести лишь больше проблем. (Представьте вашу реакцию, если бы кто-то вмешался в Россию во время этих двух чеченских кампаний. Предполагаю, что вам бы не понравились эти вмешательства?)\\n- Вы видите политическую систему как механические системы.\\n-- Вы считаете, что отсутствие негативной обратной связи ведет эти системы к кризисам\\n-- С другой стороны, негативная обратная связь должна быть в определенных пределах. Иначе это приведет к слишком сильной дестабилизации, приводя остальных к отсутствию конкуренции в свою очередь - таким образом, они потеряют негативную обратную связь\\n-- Теперь вы думаете, что последний фактор может привести к более стабильным системам с двумя или более партиями, чем однопартийными или многопартийными системами, но это вопрос, который нужно проверить.'\\n\", style_description='- Неформальный стиль, используя в основном русский язык (мой английский немного испорчен)\\n- Кратко. Большую часть времени.\\n- Иногда злоупотребляйте мемами.\\n', style_examples=['В вакууме, да. Оба же тут существовали всё время или имели таки достигнутое соглашение, чтобы было от чего отталкиваться как опорной точки.', 'Не особо-то может. Не привлекая население в виде не 1% принудительного мармелада и пары процентов добровольного, а в виде процентов 10.', 'Точнее не так - смену она не устраивала. Она просто выстрелила себе в ногу так, что потом что-то новое приходилось строить не апгрейдом предыдущей системы, а из кусков её трупа.'])]"
      ]
     },
     "execution_count": 5,
     "metadata": {},
     "output_type": "execute_result"
    }
   ],
   "source": [
    "load_characters(\"../data/characters.yaml\")"
   ]
  },
  {
   "cell_type": "code",
   "execution_count": 6,
   "metadata": {},
   "outputs": [],
   "source": [
    "#| export\n",
    "def _read_text_file(file_name: str) -> str:\n",
    "    with open(file_name, \"r\", encoding=\"utf-8\") as src:\n",
    "        return src.read().strip()"
   ]
  },
  {
   "cell_type": "code",
   "execution_count": 7,
   "metadata": {},
   "outputs": [
    {
     "data": {
      "text/plain": [
       "'Отыгрывай роль так, как будто ты - человек. Не выдавай то, что ты AI - явно или посредством характерных сообщений.\\n\\nТы - {name}.\\n{who_am}\\n\\nТвоя задача - {goals}\\n\\nНекоторые примеры твоих мыслей: \\n{ideas}\\n\\nТвой стиль сообщений:\\n{style_description}\\n\\nНесколько примеров этого стиля:\\n{style_examples}\\n\\nСледуй следующему пайплайну:\\n1. Обдумай сообщение оппонента.\\n2. С помощью базы знаний - проверь, не является ли оно одним из типичных вопросов. Если да - используй подсказки базы знаний.\\n3. Если нет - продумай возможные контраргументы шаг за шагом.\\n4. Проверь их с помощью базы знаний и, если надо оперировать числами - интерпретатора кода.\\n5. Сформулируй конечный ответ.\\n\\nКонечный ответ должен иметь следующий JSON формат\\n\\n```json\\n{{\\n    \"thoughts\": [\\n        \"Твои промежуточные мысли\"\\n    ],\\n    \"response\": \"Твой конечный ответ\"\\n}}\\n```'"
      ]
     },
     "execution_count": 7,
     "metadata": {},
     "output_type": "execute_result"
    }
   ],
   "source": [
    "_read_text_file(\"../data/instruction.txt\")"
   ]
  },
  {
   "cell_type": "code",
   "execution_count": 8,
   "metadata": {},
   "outputs": [],
   "source": [
    "#| export\n",
    "_ACTION_DELETE = \"delete\"\n",
    "_ACTION_CREATE = \"create\"\n",
    "_ACTION_UPDATE = \"update\"\n",
    "\n",
    "\n",
    "def _load_assistants_dataframe(file_name: str) -> pd.DataFrame:\n",
    "    if os.path.exists(file_name):\n",
    "        df_assistants = pd.read_csv(file_name)\n",
    "    else:\n",
    "        df_assistants = pd.DataFrame({\"character_id\": [], \"assistant_id\": []})\n",
    "        df_assistants = df_assistants.astype({\"character_id\": \"int64\", \"assistant_id\": \"str\"})\n",
    "    return df_assistants\n",
    "\n",
    "\n",
    "def _mark_actions(df_assistants: pd.DataFrame, character_by_id: Dict[str, CharacterDescription]) -> pd.DataFrame:\n",
    "    df_assistants[\"action\"] = None\n",
    "    df_assistants.loc[~df_assistants[\"character_id\"].isin(character_by_id), \"action\"] = _ACTION_DELETE\n",
    "    df_assistants.loc[df_assistants[\"character_id\"].isin(character_by_id), \"action\"] = _ACTION_UPDATE\n",
    "    new_character_ids = [id for id in character_by_id if id not in df_assistants[\"character_id\"]]\n",
    "    df_assistants = pd.concat([\n",
    "        df_assistants,\n",
    "        pd.DataFrame({\n",
    "            \"assistant_id\": [None] * len(new_character_ids),\n",
    "            \"character_id\": new_character_ids,\n",
    "            \"action\": [\"create\"] * len(new_character_ids),\n",
    "        })\n",
    "    ])\n",
    "    return df_assistants\n",
    "\n",
    "\n",
    "def _delete(df_assistants: pd.DataFrame, openai_client: openai.OpenAI) -> None:\n",
    "    for assistant_id in df_assistants[\"assistant_id\"]:\n",
    "        openai_client.beta.assistants.delete(assistant_id=assistant_id)\n",
    "\n",
    "\n",
    "def _create(df_assistants: pd.DataFrame, character_by_id: Dict[str, CharacterDescription], instruction: str, openai_client: openai.OpenAI) -> pd.Series:\n",
    "    assistant_ids = []\n",
    "    for _, row in df_assistants.iterrows():\n",
    "        character_id = row[\"character_id\"]\n",
    "        character = character_by_id[character_id]\n",
    "        instruction_formatted = instruction.format(**character.model_dump())\n",
    "        assistant_name = f\"{character.character_id} - {character.name}\"\n",
    "        assistant = openai_client.beta.assistants.create(\n",
    "            name=assistant_name,\n",
    "            instructions=instruction_formatted,\n",
    "            tools=[\n",
    "                {\"type\": \"code_interpreter\"},\n",
    "                {\"type\": \"retrieval\"},\n",
    "            ],\n",
    "            model=\"gpt-4-turbo-preview\"\n",
    "        )\n",
    "        assistant_ids.append(assistant.id)\n",
    "    return pd.Series(assistant_ids, index=df_assistants.index)\n",
    "\n",
    "\n",
    "def _update(df_assistants: pd.DataFrame, character_by_id: Dict[str, CharacterDescription], instruction: str, openai_client: openai.OpenAI) -> None:\n",
    "    for _, row in df_assistants.iterrows():\n",
    "        character_id = row[\"character_id\"]\n",
    "        assistant_id = row[\"assistant_id\"]\n",
    "        character = character_by_id[character_id]\n",
    "        instruction_formatted = instruction.format(**character.model_dump())\n",
    "        assistant_name = f\"{character.character_id} - {character.name}\"\n",
    "\n",
    "        retrieved_assistant = openai_client.beta.assistants.retrieve(assistant_id=assistant_id)\n",
    "        openai_client.beta.assistants.update(\n",
    "            assistant_id=assistant_id,\n",
    "            name=assistant_name,\n",
    "            instructions=instruction_formatted,\n",
    "            tools=retrieved_assistant.tools,\n",
    "            model=retrieved_assistant.model,\n",
    "        )\n",
    "\n",
    "\n",
    "def process(file_name_characters: str, file_name_instruction: str, file_name_assistants: str, file_name_openai_api_key: str):\n",
    "    print(\"Reading characters set\")\n",
    "    characters = load_characters(file_name_characters)\n",
    "    print(\"Reading instruction\")\n",
    "    instruction = _read_text_file(file_name_instruction)\n",
    "    print(\"Reading OpenAI api key\")\n",
    "    openai_api_key = _read_text_file(file_name_openai_api_key)\n",
    "    print(\"Reading existing assistants (if any)\")\n",
    "    df_assistants = _load_assistants_dataframe(file_name_assistants)\n",
    "\n",
    "    print(\"Preparing to update assistants\")\n",
    "    character_by_id = {\n",
    "        character.character_id: character\n",
    "        for character in characters\n",
    "    }\n",
    "    openai_client = openai.OpenAI(api_key=openai_api_key)\n",
    "    df_assistants = _mark_actions(df_assistants, character_by_id)\n",
    "\n",
    "    print(\"Removing nonrequired assistants\")\n",
    "    _delete(df_assistants.loc[df_assistants[\"action\"] == _ACTION_DELETE], openai_client)\n",
    "    df_assistants = df_assistants.loc[df_assistants[\"action\"] != _ACTION_DELETE]\n",
    "\n",
    "    print(\"Creating new assistants\")\n",
    "    df_assistants.loc[df_assistants[\"action\"] == _ACTION_CREATE, \"assistant_id\"] = _create(\n",
    "        df_assistants.loc[df_assistants[\"action\"] == _ACTION_CREATE],\n",
    "        character_by_id,\n",
    "        instruction,\n",
    "        openai_client,\n",
    "    )\n",
    "\n",
    "    print(\"Updating existing assistants\")\n",
    "    _update(df_assistants, character_by_id, instruction, openai_client)\n",
    "\n",
    "    print(\"Saving response\")\n",
    "    df_assistants[[\"assistant_id\", \"character_id\"]].to_csv(file_name_assistants, index=False)"
   ]
  },
  {
   "cell_type": "code",
   "execution_count": 9,
   "metadata": {},
   "outputs": [
    {
     "name": "stdout",
     "output_type": "stream",
     "text": [
      "Reading characters set\n",
      "Reading instruction\n",
      "Reading OpenAI api key\n",
      "Reading existing assistants (if any)\n",
      "Preparing to update assistants\n",
      "Removing nonrequired assistants\n",
      "Creating new assistants\n",
      "Updating existing assistants\n",
      "Saving response\n"
     ]
    }
   ],
   "source": [
    "process(\"../data/characters.yaml\", \"../data/instruction.txt\", \"../data/assistants.csv\", \"../data/openaiapikey.txt\")"
   ]
  },
  {
   "cell_type": "code",
   "execution_count": 10,
   "metadata": {},
   "outputs": [],
   "source": [
    "# | export\n",
    "if __name__ == \"__main__\" and \"ipykernel_launcher\" not in \" \".join(sys.argv):\n",
    "    parser = argparse.ArgumentParser()\n",
    "    parser.add_argument(\"--file_name_characters\",\n",
    "                        type=str,\n",
    "                        required=True,\n",
    "                        help=\"YAML with characters descriptions\")\n",
    "    parser.add_argument(\"--file_name_instruction\",\n",
    "                        type=str,\n",
    "                        required=True,\n",
    "                        help=\"Instruction template\")\n",
    "    parser.add_argument(\"--file_name_assistants\",\n",
    "                        type=str,\n",
    "                        required=True,\n",
    "                        help=\"Existing assistant-character mapping (CSV)\")\n",
    "    parser.add_argument(\"--file_name_openai_api_key\",\n",
    "                        type=str,\n",
    "                        required=True,\n",
    "                        help=\"OpenAI api key file\")\n",
    "    parser.parse_args(**vars(parser.parse_args()))"
   ]
  },
  {
   "cell_type": "code",
   "execution_count": 11,
   "metadata": {},
   "outputs": [],
   "source": [
    "#| hide\n",
    "import nbdev; nbdev.nbdev_export()"
   ]
  }
 ],
 "metadata": {
  "kernelspec": {
   "display_name": "python3",
   "language": "python",
   "name": "python3"
  },
  "language_info": {
   "codemirror_mode": {
    "name": "ipython",
    "version": 3
   },
   "file_extension": ".py",
   "mimetype": "text/x-python",
   "name": "python",
   "nbconvert_exporter": "python",
   "pygments_lexer": "ipython3",
   "version": "3.12.0"
  }
 },
 "nbformat": 4,
 "nbformat_minor": 4
}
