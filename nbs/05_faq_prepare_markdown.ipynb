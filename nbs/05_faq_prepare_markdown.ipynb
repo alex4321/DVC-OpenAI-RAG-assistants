{
 "cells": [
  {
   "cell_type": "code",
   "execution_count": null,
   "metadata": {},
   "outputs": [],
   "source": [
    "#| default_exp scripts/faq_prepare_markdown"
   ]
  },
  {
   "cell_type": "code",
   "execution_count": null,
   "metadata": {},
   "outputs": [
    {
     "name": "stderr",
     "output_type": "stream",
     "text": [
      "/tmp/ipykernel_322042/2160926404.py:4: DeprecationWarning: \n",
      "Pyarrow will become a required dependency of pandas in the next major release of pandas (pandas 3.0),\n",
      "(to allow more performant data types, such as the Arrow string type, and better interoperability with other libraries)\n",
      "but was not found to be installed on your system.\n",
      "If this would cause problems for you,\n",
      "please provide us feedback at https://github.com/pandas-dev/pandas/issues/54466\n",
      "        \n",
      "  import pandas as pd\n"
     ]
    }
   ],
   "source": [
    "#| export\n",
    "import argparse\n",
    "import sys\n",
    "import pandas as pd"
   ]
  },
  {
   "cell_type": "code",
   "execution_count": null,
   "metadata": {},
   "outputs": [],
   "source": [
    "#| export\n",
    "def process(file_name_faq: str, file_name_faq_markdown: str):\n",
    "    df = pd.read_csv(file_name_faq)\n",
    "    df[\"content\"] = \"Question: \" + df[\"question\"] + \"\\n\\n\" + \"Answer: \" + df[\"answer\"]\n",
    "    df[\"url\"] = \"FAQ\"\n",
    "    df[[\"content\", \"url\"]].to_json(file_name_faq_markdown, orient=\"records\", lines=True)"
   ]
  },
  {
   "cell_type": "code",
   "execution_count": null,
   "metadata": {},
   "outputs": [],
   "source": [
    "process(\n",
    "    \"../data/faq.csv\",\n",
    "    \"../data/faq--markdown.jsonl\",\n",
    ")"
   ]
  },
  {
   "cell_type": "code",
   "execution_count": null,
   "metadata": {},
   "outputs": [],
   "source": [
    "# | export\n",
    "if __name__ == \"__main__\" and \"ipykernel_launcher\" not in \" \".join(sys.argv):\n",
    "    parser = argparse.ArgumentParser()\n",
    "    parser.add_argument(\"--file_name_faq\",\n",
    "                        type=str,\n",
    "                        required=True,\n",
    "                        help=\"CSV with FAQ\")\n",
    "    parser.add_argument(\"--file_name_faq_markdown\",\n",
    "                        type=str,\n",
    "                        required=True,\n",
    "                        help=\"JSONL file with FAQ as markdown\")\n",
    "    process(**vars(parser.parse_args()))"
   ]
  },
  {
   "cell_type": "code",
   "execution_count": null,
   "metadata": {},
   "outputs": [],
   "source": [
    "#| hide\n",
    "import nbdev; nbdev.nbdev_export()"
   ]
  }
 ],
 "metadata": {
  "kernelspec": {
   "display_name": "python3",
   "language": "python",
   "name": "python3"
  }
 },
 "nbformat": 4,
 "nbformat_minor": 2
}
