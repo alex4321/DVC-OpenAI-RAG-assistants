{
 "cells": [
  {
   "cell_type": "code",
   "execution_count": null,
   "metadata": {},
   "outputs": [],
   "source": [
    "#| default_exp scripts/update_assistant_files"
   ]
  },
  {
   "cell_type": "code",
   "execution_count": null,
   "metadata": {},
   "outputs": [
    {
     "name": "stderr",
     "output_type": "stream",
     "text": [
      "/tmp/ipykernel_7212/2795621024.py:6: DeprecationWarning: \n",
      "Pyarrow will become a required dependency of pandas in the next major release of pandas (pandas 3.0),\n",
      "(to allow more performant data types, such as the Arrow string type, and better interoperability with other libraries)\n",
      "but was not found to be installed on your system.\n",
      "If this would cause problems for you,\n",
      "please provide us feedback at https://github.com/pandas-dev/pandas/issues/54466\n",
      "        \n",
      "  import pandas as pd\n"
     ]
    }
   ],
   "source": [
    "#| export\n",
    "import argparse\n",
    "import sys\n",
    "from typing import List\n",
    "import openai\n",
    "import pandas as pd"
   ]
  },
  {
   "cell_type": "code",
   "execution_count": null,
   "metadata": {},
   "outputs": [],
   "source": [
    "#| export\n",
    "def _set_assistant_files(assistant_id: str, file_ids: List[str], openai_client: openai.OpenAI) -> None:\n",
    "    remove_files = set()\n",
    "    existing_files = set()\n",
    "    for existing_file in openai_client.beta.assistants.files.list(assistant_id=assistant_id).data:\n",
    "        if existing_file.id not in file_ids:\n",
    "            remove_files.add(existing_file.id)\n",
    "        else:\n",
    "            existing_files.add(existing_file.id)\n",
    "    new_files = set(file_ids) - existing_files\n",
    "    for file_id in remove_files:\n",
    "        openai_client.beta.assistants.files.delete(\n",
    "            file_id=file_id,\n",
    "            assistant_id=assistant_id\n",
    "        )\n",
    "    for file_id in new_files:\n",
    "        openai_client.beta.assistants.files.create(\n",
    "            file_id=file_id,\n",
    "            assistant_id=assistant_id\n",
    "        )\n",
    "    return file_ids"
   ]
  },
  {
   "cell_type": "code",
   "execution_count": null,
   "metadata": {},
   "outputs": [],
   "source": [
    "#| export\n",
    "def process(file_name_assistants: str, file_name_file_ids: str, file_name_openai_api_key: str, file_name_mapping: str) -> None:\n",
    "    df_assistants = pd.read_csv(file_name_assistants)\n",
    "    df_files = pd.read_json(file_name_file_ids, orient=\"records\", lines=True)\n",
    "    with open(file_name_openai_api_key, \"r\", encoding=\"utf-8\") as src:\n",
    "        openai_api_key = src.read()\n",
    "    openai_client = openai.OpenAI(api_key=openai_api_key)\n",
    "    df_assistants[\"file_ids\"] = df_assistants[\"assistant_id\"] \\\n",
    "        .apply(lambda assistant_id: _set_assistant_files(assistant_id, set(df_files[\"file_id\"]), openai_client)) \\\n",
    "        .apply(set).apply(sorted).apply(\",\".join)\n",
    "    df_assistants[[\"assistant_id\", \"file_ids\"]].to_json(file_name_mapping, orient=\"records\", lines=True)"
   ]
  },
  {
   "cell_type": "code",
   "execution_count": null,
   "metadata": {},
   "outputs": [],
   "source": [
    "process(\n",
    "    \"../data/assistants.csv\",\n",
    "    \"../data/openai-file-ids.jsonl\",\n",
    "    \"../data/openaiapikey.txt\",\n",
    "    \"../data/assistants-files-mapping.jsonl\"\n",
    ")"
   ]
  },
  {
   "cell_type": "code",
   "execution_count": null,
   "metadata": {},
   "outputs": [],
   "source": [
    "# | export\n",
    "if __name__ == \"__main__\" and \"ipykernel_launcher\" not in \" \".join(sys.argv):\n",
    "    parser = argparse.ArgumentParser()\n",
    "    parser.add_argument(\"--file_name_assistants\",\n",
    "                        type=str,\n",
    "                        required=True,\n",
    "                        help=\"A CSV with assistant ids\")\n",
    "    parser.add_argument(\"--file_name_file_ids\",\n",
    "                        type=str,\n",
    "                        required=True,\n",
    "                        help=\"JSONL file with all the file ids\")\n",
    "    parser.add_argument(\"--file_name_openai_api_key\",\n",
    "                        type=str,\n",
    "                        required=True,\n",
    "                        help=\"OpenAI api key\")\n",
    "    parser.add_argument(\"--file_name_mapping\",\n",
    "                        type=str,\n",
    "                        required=True,\n",
    "                        help=\"Output assistant-file ids mapping\")\n",
    "    process(**vars(parser.parse_args()))"
   ]
  },
  {
   "cell_type": "code",
   "execution_count": null,
   "metadata": {},
   "outputs": [],
   "source": [
    "#| hide\n",
    "import nbdev; nbdev.nbdev_export()"
   ]
  }
 ],
 "metadata": {
  "kernelspec": {
   "display_name": "python3",
   "language": "python",
   "name": "python3"
  }
 },
 "nbformat": 4,
 "nbformat_minor": 2
}
